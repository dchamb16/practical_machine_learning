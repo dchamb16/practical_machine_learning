{
 "cells": [
  {
   "cell_type": "markdown",
   "metadata": {},
   "source": [
    "# Boston Housing Dataset"
   ]
  },
  {
   "cell_type": "code",
   "execution_count": 1,
   "metadata": {},
   "outputs": [],
   "source": [
    "# import libraries\n",
    "import numpy as np\n",
    "import pandas as pd\n",
    "import seaborn as sns\n",
    "import matplotlib.pyplot as plt\n",
    "from sklearn.linear_model import LinearRegression, Ridge, Lasso, ElasticNet\n",
    "from sklearn.pipeline import Pipeline\n",
    "from sklearn.compose import ColumnTransformer, make_column_selector\n",
    "from sklearn.preprocessing import OneHotEncoder\n",
    "from sklearn.metrics import mean_squared_error, r2_score, make_scorer\n",
    "from sklearn.model_selection import train_test_split, GridSearchCV\n",
    "from sklearn.preprocessing import StandardScaler\n",
    "\n",
    "import mlflow\n",
    "import mlflow.sklearn"
   ]
  },
  {
   "cell_type": "code",
   "execution_count": 2,
   "metadata": {},
   "outputs": [],
   "source": [
    "RANDOM_SEED = 42"
   ]
  },
  {
   "cell_type": "code",
   "execution_count": 32,
   "metadata": {},
   "outputs": [],
   "source": [
    "df = pd.read_csv('./data/boston.csv')\n",
    "df['mv'] = np.log(df['mv'])"
   ]
  },
  {
   "cell_type": "code",
   "execution_count": 33,
   "metadata": {},
   "outputs": [],
   "source": [
    "X_train, X_test, y_train, y_test = train_test_split(df.drop(columns=['mv']), df['mv'], test_size=0.2, random_state=RANDOM_SEED)"
   ]
  },
  {
   "cell_type": "code",
   "execution_count": 34,
   "metadata": {},
   "outputs": [
    {
     "data": {
      "text/html": [
       "<div>\n",
       "<style scoped>\n",
       "    .dataframe tbody tr th:only-of-type {\n",
       "        vertical-align: middle;\n",
       "    }\n",
       "\n",
       "    .dataframe tbody tr th {\n",
       "        vertical-align: top;\n",
       "    }\n",
       "\n",
       "    .dataframe thead th {\n",
       "        text-align: right;\n",
       "    }\n",
       "</style>\n",
       "<table border=\"1\" class=\"dataframe\">\n",
       "  <thead>\n",
       "    <tr style=\"text-align: right;\">\n",
       "      <th></th>\n",
       "      <th>neighborhood</th>\n",
       "      <th>crim</th>\n",
       "      <th>zn</th>\n",
       "      <th>indus</th>\n",
       "      <th>chas</th>\n",
       "      <th>nox</th>\n",
       "      <th>rooms</th>\n",
       "      <th>age</th>\n",
       "      <th>dis</th>\n",
       "      <th>rad</th>\n",
       "      <th>tax</th>\n",
       "      <th>ptratio</th>\n",
       "      <th>lstat</th>\n",
       "      <th>mv</th>\n",
       "    </tr>\n",
       "  </thead>\n",
       "  <tbody>\n",
       "    <tr>\n",
       "      <th>0</th>\n",
       "      <td>Nahant</td>\n",
       "      <td>0.00632</td>\n",
       "      <td>18.0</td>\n",
       "      <td>2.31</td>\n",
       "      <td>0</td>\n",
       "      <td>0.538</td>\n",
       "      <td>6.575</td>\n",
       "      <td>65.2</td>\n",
       "      <td>4.0900</td>\n",
       "      <td>1</td>\n",
       "      <td>296</td>\n",
       "      <td>15.3</td>\n",
       "      <td>4.98</td>\n",
       "      <td>3.178054</td>\n",
       "    </tr>\n",
       "    <tr>\n",
       "      <th>1</th>\n",
       "      <td>Swampscott</td>\n",
       "      <td>0.02731</td>\n",
       "      <td>0.0</td>\n",
       "      <td>7.07</td>\n",
       "      <td>0</td>\n",
       "      <td>0.469</td>\n",
       "      <td>6.421</td>\n",
       "      <td>78.9</td>\n",
       "      <td>4.9671</td>\n",
       "      <td>2</td>\n",
       "      <td>242</td>\n",
       "      <td>17.8</td>\n",
       "      <td>9.14</td>\n",
       "      <td>3.072693</td>\n",
       "    </tr>\n",
       "    <tr>\n",
       "      <th>2</th>\n",
       "      <td>Swanpscott</td>\n",
       "      <td>0.02729</td>\n",
       "      <td>0.0</td>\n",
       "      <td>7.07</td>\n",
       "      <td>0</td>\n",
       "      <td>0.469</td>\n",
       "      <td>7.185</td>\n",
       "      <td>61.1</td>\n",
       "      <td>4.9671</td>\n",
       "      <td>2</td>\n",
       "      <td>242</td>\n",
       "      <td>17.8</td>\n",
       "      <td>4.03</td>\n",
       "      <td>3.546740</td>\n",
       "    </tr>\n",
       "    <tr>\n",
       "      <th>3</th>\n",
       "      <td>Marblehead</td>\n",
       "      <td>0.03237</td>\n",
       "      <td>0.0</td>\n",
       "      <td>2.18</td>\n",
       "      <td>0</td>\n",
       "      <td>0.458</td>\n",
       "      <td>6.998</td>\n",
       "      <td>45.8</td>\n",
       "      <td>6.0622</td>\n",
       "      <td>3</td>\n",
       "      <td>222</td>\n",
       "      <td>18.7</td>\n",
       "      <td>2.94</td>\n",
       "      <td>3.508556</td>\n",
       "    </tr>\n",
       "    <tr>\n",
       "      <th>4</th>\n",
       "      <td>Marblehead</td>\n",
       "      <td>0.06905</td>\n",
       "      <td>0.0</td>\n",
       "      <td>2.18</td>\n",
       "      <td>0</td>\n",
       "      <td>0.458</td>\n",
       "      <td>7.147</td>\n",
       "      <td>54.2</td>\n",
       "      <td>6.0622</td>\n",
       "      <td>3</td>\n",
       "      <td>222</td>\n",
       "      <td>18.7</td>\n",
       "      <td>5.33</td>\n",
       "      <td>3.589059</td>\n",
       "    </tr>\n",
       "  </tbody>\n",
       "</table>\n",
       "</div>"
      ],
      "text/plain": [
       "  neighborhood     crim    zn  indus  chas    nox  rooms   age     dis  rad  \\\n",
       "0       Nahant  0.00632  18.0   2.31     0  0.538  6.575  65.2  4.0900    1   \n",
       "1   Swampscott  0.02731   0.0   7.07     0  0.469  6.421  78.9  4.9671    2   \n",
       "2   Swanpscott  0.02729   0.0   7.07     0  0.469  7.185  61.1  4.9671    2   \n",
       "3   Marblehead  0.03237   0.0   2.18     0  0.458  6.998  45.8  6.0622    3   \n",
       "4   Marblehead  0.06905   0.0   2.18     0  0.458  7.147  54.2  6.0622    3   \n",
       "\n",
       "   tax  ptratio  lstat        mv  \n",
       "0  296     15.3   4.98  3.178054  \n",
       "1  242     17.8   9.14  3.072693  \n",
       "2  242     17.8   4.03  3.546740  \n",
       "3  222     18.7   2.94  3.508556  \n",
       "4  222     18.7   5.33  3.589059  "
      ]
     },
     "execution_count": 34,
     "metadata": {},
     "output_type": "execute_result"
    }
   ],
   "source": [
    "df.head()"
   ]
  },
  {
   "cell_type": "code",
   "execution_count": 35,
   "metadata": {},
   "outputs": [
    {
     "data": {
      "text/plain": [
       "(404, 13)"
      ]
     },
     "execution_count": 35,
     "metadata": {},
     "output_type": "execute_result"
    }
   ],
   "source": [
    "X_train.shape"
   ]
  },
  {
   "cell_type": "code",
   "execution_count": 36,
   "metadata": {},
   "outputs": [
    {
     "data": {
      "text/plain": [
       "neighborhood    0\n",
       "crim            0\n",
       "zn              0\n",
       "indus           0\n",
       "chas            0\n",
       "nox             0\n",
       "rooms           0\n",
       "age             0\n",
       "dis             0\n",
       "rad             0\n",
       "tax             0\n",
       "ptratio         0\n",
       "lstat           0\n",
       "dtype: int64"
      ]
     },
     "execution_count": 36,
     "metadata": {},
     "output_type": "execute_result"
    }
   ],
   "source": [
    "X_train.isnull().sum()"
   ]
  },
  {
   "cell_type": "code",
   "execution_count": 37,
   "metadata": {},
   "outputs": [
    {
     "name": "stderr",
     "output_type": "stream",
     "text": [
      "C:\\Users\\dusti\\AppData\\Local\\Temp\\ipykernel_8968\\942285416.py:2: DeprecationWarning: `np.bool` is a deprecated alias for the builtin `bool`. To silence this warning, use `bool` by itself. Doing this will not modify any behavior and is safe. If you specifically wanted the numpy scalar type, use `np.bool_` here.\n",
      "Deprecated in NumPy 1.20; for more details and guidance: https://numpy.org/devdocs/release/1.20.0-notes.html#deprecations\n",
      "  mask = np.zeros_like(corr, dtype=np.bool)\n"
     ]
    },
    {
     "data": {
      "text/plain": [
       "<AxesSubplot:>"
      ]
     },
     "execution_count": 37,
     "metadata": {},
     "output_type": "execute_result"
    },
    {
     "data": {
      "image/png": "[encoded data removed]",
      "text/plain": [
       "<Figure size 792x648 with 2 Axes>"
      ]
     },
     "metadata": {
      "needs_background": "light"
     },
     "output_type": "display_data"
    }
   ],
   "source": [
    "corr = df.corr()\n",
    "mask = np.zeros_like(corr, dtype=np.bool)\n",
    "mask[np.triu_indices_from(mask)] = True\n",
    "f, ax = plt.subplots(figsize=(11,9))\n",
    "cmap = sns.diverging_palette(220, 10, as_cmap=True)\n",
    "sns.heatmap(corr, mask=mask, vmax=1, vmin=-1, center=0, square=True, cmap=cmap, annot=True)"
   ]
  },
  {
   "cell_type": "code",
   "execution_count": 38,
   "metadata": {},
   "outputs": [
    {
     "data": {
      "text/plain": [
       "<seaborn.axisgrid.JointGrid at 0x21062ca3490>"
      ]
     },
     "execution_count": 38,
     "metadata": {},
     "output_type": "execute_result"
    },
    {
     "data": {
      "image/png": "[encoded data removed]",
      "text/plain": [
       "<Figure size 432x432 with 3 Axes>"
      ]
     },
     "metadata": {
      "needs_background": "light"
     },
     "output_type": "display_data"
    }
   ],
   "source": [
    "sns.jointplot(x='rooms', y='mv', data=df, kind='hex')"
   ]
  },
  {
   "cell_type": "code",
   "execution_count": 39,
   "metadata": {},
   "outputs": [
    {
     "data": {
      "text/plain": [
       "<seaborn.axisgrid.JointGrid at 0x21062a97040>"
      ]
     },
     "execution_count": 39,
     "metadata": {},
     "output_type": "execute_result"
    },
    {
     "data": {
      "image/png": "[encoded data removed]",
      "text/plain": [
       "<Figure size 432x432 with 3 Axes>"
      ]
     },
     "metadata": {
      "needs_background": "light"
     },
     "output_type": "display_data"
    }
   ],
   "source": [
    "sns.jointplot(x='lstat', y='mv', data=df, kind='hex')"
   ]
  },
  {
   "cell_type": "code",
   "execution_count": 40,
   "metadata": {},
   "outputs": [
    {
     "data": {
      "text/plain": [
       "array([[<AxesSubplot:title={'center':'crim'}>,\n",
       "        <AxesSubplot:title={'center':'zn'}>,\n",
       "        <AxesSubplot:title={'center':'indus'}>,\n",
       "        <AxesSubplot:title={'center':'chas'}>],\n",
       "       [<AxesSubplot:title={'center':'nox'}>,\n",
       "        <AxesSubplot:title={'center':'rooms'}>,\n",
       "        <AxesSubplot:title={'center':'age'}>,\n",
       "        <AxesSubplot:title={'center':'dis'}>],\n",
       "       [<AxesSubplot:title={'center':'rad'}>,\n",
       "        <AxesSubplot:title={'center':'tax'}>,\n",
       "        <AxesSubplot:title={'center':'ptratio'}>,\n",
       "        <AxesSubplot:title={'center':'lstat'}>],\n",
       "       [<AxesSubplot:title={'center':'mv'}>, <AxesSubplot:>,\n",
       "        <AxesSubplot:>, <AxesSubplot:>]], dtype=object)"
      ]
     },
     "execution_count": 40,
     "metadata": {},
     "output_type": "execute_result"
    },
    {
     "data": {
      "image/png": "[encoded data removed]",
      "text/plain": [
       "<Figure size 1152x720 with 16 Axes>"
      ]
     },
     "metadata": {
      "needs_background": "light"
     },
     "output_type": "display_data"
    }
   ],
   "source": [
    "df.hist(figsize=(16,10), bins=20)"
   ]
  },
  {
   "cell_type": "code",
   "execution_count": 41,
   "metadata": {},
   "outputs": [],
   "source": [
    "def rmse(y_actual, y_pred):\n",
    "    return np.sqrt(mean_squared_error(y_actual, y_pred))\n",
    "\n",
    "rmse_scorer = make_scorer(rmse, greater_is_better=False)"
   ]
  },
  {
   "cell_type": "code",
   "execution_count": 42,
   "metadata": {},
   "outputs": [
    {
     "name": "stderr",
     "output_type": "stream",
     "text": [
      "2022/05/07 11:48:11 WARNING mlflow.utils.autologging_utils: You are using an unsupported version of sklearn. If you encounter errors during autologging, try upgrading / downgrading sklearn to a supported version, or try upgrading MLflow.\n"
     ]
    }
   ],
   "source": [
    "mlflow.sklearn.autolog()"
   ]
  },
  {
   "cell_type": "code",
   "execution_count": 43,
   "metadata": {},
   "outputs": [],
   "source": [
    "numeric_columns = X_train.select_dtypes(include=['float', 'int']).columns.values.tolist()"
   ]
  },
  {
   "cell_type": "code",
   "execution_count": 44,
   "metadata": {},
   "outputs": [],
   "source": [
    "categorical_columns = X_train.select_dtypes(include=['object']).columns.values.tolist()"
   ]
  },
  {
   "cell_type": "code",
   "execution_count": 45,
   "metadata": {},
   "outputs": [
    {
     "name": "stderr",
     "output_type": "stream",
     "text": [
      "2022/05/07 11:48:13 INFO mlflow.utils.autologging_utils: Created MLflow autologging run with ID '5cb4aa415ef84a929314c91de548b5b1', which will track hyperparameters, performance metrics, model artifacts, and lineage information for the current sklearn workflow\n",
      "2022/05/07 11:48:13 WARNING mlflow.utils: Truncated the value of the key `steps`. Truncated value: `[('preprocessor', ColumnTransformer(transformers=[('num',\n",
      "                                 Pipeline(steps=[('scaler', StandardScaler())]),\n",
      "                                 ['crim', 'zn', 'indus', 'chas', 'nox', 'rooms',\n",
      "                           ...`\n",
      "2022/05/07 11:48:13 WARNING mlflow.utils: Truncated the value of the key `preprocessor`. Truncated value: `ColumnTransformer(transformers=[('num',\n",
      "                                 Pipeline(steps=[('scaler', StandardScaler())]),\n",
      "                                 ['crim', 'zn', 'indus', 'chas', 'nox', 'rooms',\n",
      "                                  'age', 'dis...`\n",
      "2022/05/07 11:48:13 WARNING mlflow.utils.autologging_utils: MLflow autologging encountered a warning: \"C:\\Users\\dusti\\anaconda3\\envs\\practical_machine_learning\\lib\\site-packages\\mlflow\\models\\signature.py:129: UserWarning: Hint: Inferred schema contains integer column(s). Integer columns in Python cannot represent missing values. If your input data contains missing values at inference time, it will be encoded as floats and will cause a schema enforcement error. The best way to avoid this problem is to infer the model schema based on a realistic data sample (training dataset) that includes missing values. Alternatively, you can declare integer columns as doubles (float64) whenever these columns may have missing values. See `Handling Integers With Missing Values <https://www.mlflow.org/docs/latest/models.html#handling-integers-with-missing-values>`_ for more details.\"\n"
     ]
    },
    {
     "data": {
      "text/plain": [
       "Pipeline(steps=[('preprocessor',\n",
       "                 ColumnTransformer(transformers=[('num',\n",
       "                                                  Pipeline(steps=[('scaler',\n",
       "                                                                   StandardScaler())]),\n",
       "                                                  ['crim', 'zn', 'indus',\n",
       "                                                   'chas', 'nox', 'rooms',\n",
       "                                                   'age', 'dis', 'rad', 'tax',\n",
       "                                                   'ptratio', 'lstat'])])),\n",
       "                ('regressor', LinearRegression())])"
      ]
     },
     "execution_count": 45,
     "metadata": {},
     "output_type": "execute_result"
    }
   ],
   "source": [
    "numeric_transformer = Pipeline(\n",
    "    steps=[('scaler', StandardScaler())]\n",
    ")\n",
    "\n",
    "# categorical_transformer = Pipeline(\n",
    "#     steps=[('onehot', OneHotEncoder(drop='first', handle_unknown='ignore'))]\n",
    "# )\n",
    "\n",
    "preprocessor = ColumnTransformer(\n",
    "    transformers=[\n",
    "        ('num', numeric_transformer, numeric_columns)\n",
    "        # , ('cat', categorical_transformer, categorical_columns)\n",
    "    ]\n",
    ")\n",
    "\n",
    "clf = Pipeline(\n",
    "    steps=[\n",
    "        ('preprocessor', preprocessor),\n",
    "        ('regressor', LinearRegression())\n",
    "    ]\n",
    ")\n",
    "\n",
    "\n",
    "clf.fit(X_train, y_train)"
   ]
  },
  {
   "cell_type": "code",
   "execution_count": 46,
   "metadata": {},
   "outputs": [
    {
     "name": "stdout",
     "output_type": "stream",
     "text": [
      "0.18862475782537239\n",
      "0.7732221181391206\n"
     ]
    }
   ],
   "source": [
    "y_pred = clf.predict(X_test)\n",
    "print(rmse(y_test, y_pred))\n",
    "print(r2_score(y_test, y_pred))\n",
    "\n",
    "model_results = pd.DataFrame({'Model':'LinearRegression', \n",
    "        'Best Param':None, \n",
    "        'RMSE': rmse(y_test, y_pred), \n",
    "        'R2': r2_score(y_test, y_pred)}\n",
    "    , index=[0])"
   ]
  },
  {
   "cell_type": "markdown",
   "metadata": {},
   "source": [
    "## Ridge Regression"
   ]
  },
  {
   "cell_type": "code",
   "execution_count": 47,
   "metadata": {},
   "outputs": [
    {
     "name": "stderr",
     "output_type": "stream",
     "text": [
      "2022/05/07 11:48:16 INFO mlflow.utils.autologging_utils: Created MLflow autologging run with ID '8a8ee52275574a1bb5f0657728e1fb71', which will track hyperparameters, performance metrics, model artifacts, and lineage information for the current sklearn workflow\n",
      "2022/05/07 11:48:16 WARNING mlflow.utils: Truncated the value of the key `estimator`. Truncated value: `Pipeline(steps=[('preprocessor',\n",
      "                 ColumnTransformer(transformers=[('num',\n",
      "                                                  Pipeline(steps=[('scaler',\n",
      "                                                                   StandardScale...`\n",
      "2022/05/07 11:48:16 WARNING mlflow.utils.autologging_utils: MLflow autologging encountered a warning: \"C:\\Users\\dusti\\anaconda3\\envs\\practical_machine_learning\\lib\\site-packages\\mlflow\\models\\signature.py:129: UserWarning: Hint: Inferred schema contains integer column(s). Integer columns in Python cannot represent missing values. If your input data contains missing values at inference time, it will be encoded as floats and will cause a schema enforcement error. The best way to avoid this problem is to infer the model schema based on a realistic data sample (training dataset) that includes missing values. Alternatively, you can declare integer columns as doubles (float64) whenever these columns may have missing values. See `Handling Integers With Missing Values <https://www.mlflow.org/docs/latest/models.html#handling-integers-with-missing-values>`_ for more details.\"\n",
      "2022/05/07 11:48:21 INFO mlflow.sklearn.utils: Logging the 5 best runs, one run will be omitted.\n",
      "2022/05/07 11:48:21 WARNING mlflow.utils: Truncated the value of the key `steps`. Truncated value: `[('preprocessor', ColumnTransformer(transformers=[('num',\n",
      "                                 Pipeline(steps=[('scaler', StandardScaler())]),\n",
      "                                 ['crim', 'zn', 'indus', 'chas', 'nox', 'rooms',\n",
      "                           ...`\n",
      "2022/05/07 11:48:21 WARNING mlflow.utils: Truncated the value of the key `preprocessor`. Truncated value: `ColumnTransformer(transformers=[('num',\n",
      "                                 Pipeline(steps=[('scaler', StandardScaler())]),\n",
      "                                 ['crim', 'zn', 'indus', 'chas', 'nox', 'rooms',\n",
      "                                  'age', 'dis...`\n",
      "2022/05/07 11:48:21 WARNING mlflow.utils: Truncated the value of the key `steps`. Truncated value: `[('preprocessor', ColumnTransformer(transformers=[('num',\n",
      "                                 Pipeline(steps=[('scaler', StandardScaler())]),\n",
      "                                 ['crim', 'zn', 'indus', 'chas', 'nox', 'rooms',\n",
      "                           ...`\n",
      "2022/05/07 11:48:21 WARNING mlflow.utils: Truncated the value of the key `preprocessor`. Truncated value: `ColumnTransformer(transformers=[('num',\n",
      "                                 Pipeline(steps=[('scaler', StandardScaler())]),\n",
      "                                 ['crim', 'zn', 'indus', 'chas', 'nox', 'rooms',\n",
      "                                  'age', 'dis...`\n",
      "2022/05/07 11:48:21 WARNING mlflow.utils: Truncated the value of the key `steps`. Truncated value: `[('preprocessor', ColumnTransformer(transformers=[('num',\n",
      "                                 Pipeline(steps=[('scaler', StandardScaler())]),\n",
      "                                 ['crim', 'zn', 'indus', 'chas', 'nox', 'rooms',\n",
      "                           ...`\n",
      "2022/05/07 11:48:21 WARNING mlflow.utils: Truncated the value of the key `preprocessor`. Truncated value: `ColumnTransformer(transformers=[('num',\n",
      "                                 Pipeline(steps=[('scaler', StandardScaler())]),\n",
      "                                 ['crim', 'zn', 'indus', 'chas', 'nox', 'rooms',\n",
      "                                  'age', 'dis...`\n",
      "2022/05/07 11:48:21 WARNING mlflow.utils: Truncated the value of the key `steps`. Truncated value: `[('preprocessor', ColumnTransformer(transformers=[('num',\n",
      "                                 Pipeline(steps=[('scaler', StandardScaler())]),\n",
      "                                 ['crim', 'zn', 'indus', 'chas', 'nox', 'rooms',\n",
      "                           ...`\n",
      "2022/05/07 11:48:21 WARNING mlflow.utils: Truncated the value of the key `preprocessor`. Truncated value: `ColumnTransformer(transformers=[('num',\n",
      "                                 Pipeline(steps=[('scaler', StandardScaler())]),\n",
      "                                 ['crim', 'zn', 'indus', 'chas', 'nox', 'rooms',\n",
      "                                  'age', 'dis...`\n",
      "2022/05/07 11:48:21 WARNING mlflow.utils: Truncated the value of the key `steps`. Truncated value: `[('preprocessor', ColumnTransformer(transformers=[('num',\n",
      "                                 Pipeline(steps=[('scaler', StandardScaler())]),\n",
      "                                 ['crim', 'zn', 'indus', 'chas', 'nox', 'rooms',\n",
      "                           ...`\n",
      "2022/05/07 11:48:21 WARNING mlflow.utils: Truncated the value of the key `preprocessor`. Truncated value: `ColumnTransformer(transformers=[('num',\n",
      "                                 Pipeline(steps=[('scaler', StandardScaler())]),\n",
      "                                 ['crim', 'zn', 'indus', 'chas', 'nox', 'rooms',\n",
      "                                  'age', 'dis...`\n"
     ]
    },
    {
     "data": {
      "text/plain": [
       "GridSearchCV(cv=3,\n",
       "             estimator=Pipeline(steps=[('preprocessor',\n",
       "                                        ColumnTransformer(transformers=[('num',\n",
       "                                                                         Pipeline(steps=[('scaler',\n",
       "                                                                                          StandardScaler())]),\n",
       "                                                                         ['crim',\n",
       "                                                                          'zn',\n",
       "                                                                          'indus',\n",
       "                                                                          'chas',\n",
       "                                                                          'nox',\n",
       "                                                                          'rooms',\n",
       "                                                                          'age',\n",
       "                                                                          'dis',\n",
       "                                                                          'rad',\n",
       "                                                                          'tax',\n",
       "                                                                          'ptratio',\n",
       "                                                                          'lstat'])])),\n",
       "                                       ('ridge', Ridge(random_state=42))]),\n",
       "             param_grid={'ridge__alpha': [0.001, 0.01, 0.1, 1, 10, 100]},\n",
       "             scoring=make_scorer(rmse, greater_is_better=False))"
      ]
     },
     "execution_count": 47,
     "metadata": {},
     "output_type": "execute_result"
    }
   ],
   "source": [
    "ridge_pipeline = Pipeline(\n",
    "    steps=[\n",
    "        ('preprocessor', preprocessor),\n",
    "        ('ridge', Ridge(fit_intercept=True, random_state=42))\n",
    "    ]\n",
    ")\n",
    "\n",
    "ridge_grid_params = {\n",
    "    'ridge__alpha': [0.001, 0.01, 0.1, 1, 10, 100]\n",
    "}\n",
    "\n",
    "ridge_clf = GridSearchCV(ridge_pipeline, param_grid=ridge_grid_params, scoring=rmse_scorer, cv=3)\n",
    "\n",
    "ridge_clf.fit(X_train, y_train)"
   ]
  },
  {
   "cell_type": "code",
   "execution_count": 48,
   "metadata": {},
   "outputs": [],
   "source": [
    "ridge_pred = ridge_clf.predict(X_test)"
   ]
  },
  {
   "cell_type": "code",
   "execution_count": 49,
   "metadata": {},
   "outputs": [
    {
     "name": "stdout",
     "output_type": "stream",
     "text": [
      "{'ridge__alpha': 1}\n",
      "0.1889743449217169\n",
      "0.772380743045625\n"
     ]
    }
   ],
   "source": [
    "print(ridge_clf.best_params_)\n",
    "print(rmse(y_test, ridge_pred))\n",
    "print(r2_score(y_test, ridge_pred))\n",
    "\n",
    "model_results = model_results.append({'Model':'Ridge', \n",
    "        'Best Param':ridge_clf.best_params_, \n",
    "        'RMSE': rmse(y_test, ridge_pred), \n",
    "        'R2': r2_score(y_test, ridge_pred)}\n",
    "    , ignore_index=True)"
   ]
  },
  {
   "cell_type": "markdown",
   "metadata": {},
   "source": [
    "## Lasso"
   ]
  },
  {
   "cell_type": "code",
   "execution_count": 50,
   "metadata": {},
   "outputs": [
    {
     "name": "stderr",
     "output_type": "stream",
     "text": [
      "2022/05/07 11:48:21 INFO mlflow.utils.autologging_utils: Created MLflow autologging run with ID '29b37c8da32a4b8ba51bb055fc0a1807', which will track hyperparameters, performance metrics, model artifacts, and lineage information for the current sklearn workflow\n",
      "2022/05/07 11:48:21 WARNING mlflow.utils: Truncated the value of the key `estimator`. Truncated value: `Pipeline(steps=[('preprocessor',\n",
      "                 ColumnTransformer(transformers=[('num',\n",
      "                                                  Pipeline(steps=[('scaler',\n",
      "                                                                   StandardScale...`\n",
      "2022/05/07 11:48:21 WARNING mlflow.utils.autologging_utils: MLflow autologging encountered a warning: \"C:\\Users\\dusti\\anaconda3\\envs\\practical_machine_learning\\lib\\site-packages\\mlflow\\models\\signature.py:129: UserWarning: Hint: Inferred schema contains integer column(s). Integer columns in Python cannot represent missing values. If your input data contains missing values at inference time, it will be encoded as floats and will cause a schema enforcement error. The best way to avoid this problem is to infer the model schema based on a realistic data sample (training dataset) that includes missing values. Alternatively, you can declare integer columns as doubles (float64) whenever these columns may have missing values. See `Handling Integers With Missing Values <https://www.mlflow.org/docs/latest/models.html#handling-integers-with-missing-values>`_ for more details.\"\n",
      "2022/05/07 11:48:26 INFO mlflow.sklearn.utils: Logging the 5 best runs, one run will be omitted.\n",
      "2022/05/07 11:48:26 WARNING mlflow.utils: Truncated the value of the key `steps`. Truncated value: `[('preprocessor', ColumnTransformer(transformers=[('num',\n",
      "                                 Pipeline(steps=[('scaler', StandardScaler())]),\n",
      "                                 ['crim', 'zn', 'indus', 'chas', 'nox', 'rooms',\n",
      "                           ...`\n",
      "2022/05/07 11:48:26 WARNING mlflow.utils: Truncated the value of the key `preprocessor`. Truncated value: `ColumnTransformer(transformers=[('num',\n",
      "                                 Pipeline(steps=[('scaler', StandardScaler())]),\n",
      "                                 ['crim', 'zn', 'indus', 'chas', 'nox', 'rooms',\n",
      "                                  'age', 'dis...`\n",
      "2022/05/07 11:48:26 WARNING mlflow.utils: Truncated the value of the key `steps`. Truncated value: `[('preprocessor', ColumnTransformer(transformers=[('num',\n",
      "                                 Pipeline(steps=[('scaler', StandardScaler())]),\n",
      "                                 ['crim', 'zn', 'indus', 'chas', 'nox', 'rooms',\n",
      "                           ...`\n",
      "2022/05/07 11:48:26 WARNING mlflow.utils: Truncated the value of the key `preprocessor`. Truncated value: `ColumnTransformer(transformers=[('num',\n",
      "                                 Pipeline(steps=[('scaler', StandardScaler())]),\n",
      "                                 ['crim', 'zn', 'indus', 'chas', 'nox', 'rooms',\n",
      "                                  'age', 'dis...`\n",
      "2022/05/07 11:48:26 WARNING mlflow.utils: Truncated the value of the key `steps`. Truncated value: `[('preprocessor', ColumnTransformer(transformers=[('num',\n",
      "                                 Pipeline(steps=[('scaler', StandardScaler())]),\n",
      "                                 ['crim', 'zn', 'indus', 'chas', 'nox', 'rooms',\n",
      "                           ...`\n",
      "2022/05/07 11:48:26 WARNING mlflow.utils: Truncated the value of the key `preprocessor`. Truncated value: `ColumnTransformer(transformers=[('num',\n",
      "                                 Pipeline(steps=[('scaler', StandardScaler())]),\n",
      "                                 ['crim', 'zn', 'indus', 'chas', 'nox', 'rooms',\n",
      "                                  'age', 'dis...`\n",
      "2022/05/07 11:48:26 WARNING mlflow.utils: Truncated the value of the key `steps`. Truncated value: `[('preprocessor', ColumnTransformer(transformers=[('num',\n",
      "                                 Pipeline(steps=[('scaler', StandardScaler())]),\n",
      "                                 ['crim', 'zn', 'indus', 'chas', 'nox', 'rooms',\n",
      "                           ...`\n",
      "2022/05/07 11:48:26 WARNING mlflow.utils: Truncated the value of the key `preprocessor`. Truncated value: `ColumnTransformer(transformers=[('num',\n",
      "                                 Pipeline(steps=[('scaler', StandardScaler())]),\n",
      "                                 ['crim', 'zn', 'indus', 'chas', 'nox', 'rooms',\n",
      "                                  'age', 'dis...`\n",
      "2022/05/07 11:48:26 WARNING mlflow.utils: Truncated the value of the key `steps`. Truncated value: `[('preprocessor', ColumnTransformer(transformers=[('num',\n",
      "                                 Pipeline(steps=[('scaler', StandardScaler())]),\n",
      "                                 ['crim', 'zn', 'indus', 'chas', 'nox', 'rooms',\n",
      "                           ...`\n",
      "2022/05/07 11:48:26 WARNING mlflow.utils: Truncated the value of the key `preprocessor`. Truncated value: `ColumnTransformer(transformers=[('num',\n",
      "                                 Pipeline(steps=[('scaler', StandardScaler())]),\n",
      "                                 ['crim', 'zn', 'indus', 'chas', 'nox', 'rooms',\n",
      "                                  'age', 'dis...`\n"
     ]
    },
    {
     "data": {
      "text/plain": [
       "GridSearchCV(cv=3,\n",
       "             estimator=Pipeline(steps=[('preprocessor',\n",
       "                                        ColumnTransformer(transformers=[('num',\n",
       "                                                                         Pipeline(steps=[('scaler',\n",
       "                                                                                          StandardScaler())]),\n",
       "                                                                         ['crim',\n",
       "                                                                          'zn',\n",
       "                                                                          'indus',\n",
       "                                                                          'chas',\n",
       "                                                                          'nox',\n",
       "                                                                          'rooms',\n",
       "                                                                          'age',\n",
       "                                                                          'dis',\n",
       "                                                                          'rad',\n",
       "                                                                          'tax',\n",
       "                                                                          'ptratio',\n",
       "                                                                          'lstat'])])),\n",
       "                                       ('lasso', Lasso(random_state=42))]),\n",
       "             param_grid={'lasso__alpha': [0.001, 0.01, 0.1, 1, 10, 100]},\n",
       "             scoring=make_scorer(rmse, greater_is_better=False))"
      ]
     },
     "execution_count": 50,
     "metadata": {},
     "output_type": "execute_result"
    }
   ],
   "source": [
    "lasso_pipeline = Pipeline(\n",
    "    steps=[\n",
    "        ('preprocessor', preprocessor),\n",
    "        ('lasso', Lasso(fit_intercept=True, random_state=42))\n",
    "    ]\n",
    ")\n",
    "\n",
    "lasso_grid_params = {\n",
    "    'lasso__alpha': [0.001, 0.01, 0.1, 1, 10, 100]\n",
    "}\n",
    "\n",
    "lasso_clf = GridSearchCV(lasso_pipeline, param_grid=lasso_grid_params, scoring=rmse_scorer, cv=3)\n",
    "\n",
    "lasso_clf.fit(X_train, y_train)"
   ]
  },
  {
   "cell_type": "code",
   "execution_count": 51,
   "metadata": {},
   "outputs": [],
   "source": [
    "lasso_pred = lasso_clf.predict(X_test)"
   ]
  },
  {
   "cell_type": "code",
   "execution_count": 52,
   "metadata": {},
   "outputs": [
    {
     "name": "stdout",
     "output_type": "stream",
     "text": [
      "{'lasso__alpha': 0.001}\n",
      "0.19032446013402451\n",
      "0.7691167020152321\n"
     ]
    }
   ],
   "source": [
    "print(lasso_clf.best_params_)\n",
    "print(rmse(y_test, lasso_pred))\n",
    "print(r2_score(y_test, lasso_pred))\n",
    "\n",
    "model_results = model_results.append({'Model':'Lasso', \n",
    "        'Best Param':lasso_clf.best_params_, \n",
    "        'RMSE': rmse(y_test, lasso_pred), \n",
    "        'R2': r2_score(y_test, lasso_pred)}\n",
    "    , ignore_index=True)"
   ]
  },
  {
   "cell_type": "markdown",
   "metadata": {},
   "source": [
    "## ElasticNet"
   ]
  },
  {
   "cell_type": "code",
   "execution_count": 53,
   "metadata": {},
   "outputs": [
    {
     "name": "stderr",
     "output_type": "stream",
     "text": [
      "2022/05/07 11:48:26 INFO mlflow.utils.autologging_utils: Created MLflow autologging run with ID '2d865ed35e6f4db990bbf48edb26e9d0', which will track hyperparameters, performance metrics, model artifacts, and lineage information for the current sklearn workflow\n",
      "2022/05/07 11:48:26 WARNING mlflow.utils: Truncated the value of the key `estimator`. Truncated value: `Pipeline(steps=[('preprocessor',\n",
      "                 ColumnTransformer(transformers=[('num',\n",
      "                                                  Pipeline(steps=[('scaler',\n",
      "                                                                   StandardScale...`\n",
      "2022/05/07 11:48:27 WARNING mlflow.utils.autologging_utils: MLflow autologging encountered a warning: \"C:\\Users\\dusti\\anaconda3\\envs\\practical_machine_learning\\lib\\site-packages\\mlflow\\models\\signature.py:129: UserWarning: Hint: Inferred schema contains integer column(s). Integer columns in Python cannot represent missing values. If your input data contains missing values at inference time, it will be encoded as floats and will cause a schema enforcement error. The best way to avoid this problem is to infer the model schema based on a realistic data sample (training dataset) that includes missing values. Alternatively, you can declare integer columns as doubles (float64) whenever these columns may have missing values. See `Handling Integers With Missing Values <https://www.mlflow.org/docs/latest/models.html#handling-integers-with-missing-values>`_ for more details.\"\n",
      "2022/05/07 11:48:31 INFO mlflow.sklearn.utils: Logging the 5 best runs, 13 runs will be omitted.\n",
      "2022/05/07 11:48:31 WARNING mlflow.utils: Truncated the value of the key `steps`. Truncated value: `[('preprocessor', ColumnTransformer(transformers=[('num',\n",
      "                                 Pipeline(steps=[('scaler', StandardScaler())]),\n",
      "                                 ['crim', 'zn', 'indus', 'chas', 'nox', 'rooms',\n",
      "                           ...`\n",
      "2022/05/07 11:48:31 WARNING mlflow.utils: Truncated the value of the key `preprocessor`. Truncated value: `ColumnTransformer(transformers=[('num',\n",
      "                                 Pipeline(steps=[('scaler', StandardScaler())]),\n",
      "                                 ['crim', 'zn', 'indus', 'chas', 'nox', 'rooms',\n",
      "                                  'age', 'dis...`\n",
      "2022/05/07 11:48:31 WARNING mlflow.utils: Truncated the value of the key `steps`. Truncated value: `[('preprocessor', ColumnTransformer(transformers=[('num',\n",
      "                                 Pipeline(steps=[('scaler', StandardScaler())]),\n",
      "                                 ['crim', 'zn', 'indus', 'chas', 'nox', 'rooms',\n",
      "                           ...`\n",
      "2022/05/07 11:48:31 WARNING mlflow.utils: Truncated the value of the key `preprocessor`. Truncated value: `ColumnTransformer(transformers=[('num',\n",
      "                                 Pipeline(steps=[('scaler', StandardScaler())]),\n",
      "                                 ['crim', 'zn', 'indus', 'chas', 'nox', 'rooms',\n",
      "                                  'age', 'dis...`\n",
      "2022/05/07 11:48:31 WARNING mlflow.utils: Truncated the value of the key `steps`. Truncated value: `[('preprocessor', ColumnTransformer(transformers=[('num',\n",
      "                                 Pipeline(steps=[('scaler', StandardScaler())]),\n",
      "                                 ['crim', 'zn', 'indus', 'chas', 'nox', 'rooms',\n",
      "                           ...`\n",
      "2022/05/07 11:48:31 WARNING mlflow.utils: Truncated the value of the key `preprocessor`. Truncated value: `ColumnTransformer(transformers=[('num',\n",
      "                                 Pipeline(steps=[('scaler', StandardScaler())]),\n",
      "                                 ['crim', 'zn', 'indus', 'chas', 'nox', 'rooms',\n",
      "                                  'age', 'dis...`\n",
      "2022/05/07 11:48:31 WARNING mlflow.utils: Truncated the value of the key `steps`. Truncated value: `[('preprocessor', ColumnTransformer(transformers=[('num',\n",
      "                                 Pipeline(steps=[('scaler', StandardScaler())]),\n",
      "                                 ['crim', 'zn', 'indus', 'chas', 'nox', 'rooms',\n",
      "                           ...`\n",
      "2022/05/07 11:48:31 WARNING mlflow.utils: Truncated the value of the key `preprocessor`. Truncated value: `ColumnTransformer(transformers=[('num',\n",
      "                                 Pipeline(steps=[('scaler', StandardScaler())]),\n",
      "                                 ['crim', 'zn', 'indus', 'chas', 'nox', 'rooms',\n",
      "                                  'age', 'dis...`\n",
      "2022/05/07 11:48:31 WARNING mlflow.utils: Truncated the value of the key `steps`. Truncated value: `[('preprocessor', ColumnTransformer(transformers=[('num',\n",
      "                                 Pipeline(steps=[('scaler', StandardScaler())]),\n",
      "                                 ['crim', 'zn', 'indus', 'chas', 'nox', 'rooms',\n",
      "                           ...`\n",
      "2022/05/07 11:48:31 WARNING mlflow.utils: Truncated the value of the key `preprocessor`. Truncated value: `ColumnTransformer(transformers=[('num',\n",
      "                                 Pipeline(steps=[('scaler', StandardScaler())]),\n",
      "                                 ['crim', 'zn', 'indus', 'chas', 'nox', 'rooms',\n",
      "                                  'age', 'dis...`\n"
     ]
    },
    {
     "data": {
      "text/plain": [
       "GridSearchCV(cv=3,\n",
       "             estimator=Pipeline(steps=[('preprocessor',\n",
       "                                        ColumnTransformer(transformers=[('num',\n",
       "                                                                         Pipeline(steps=[('scaler',\n",
       "                                                                                          StandardScaler())]),\n",
       "                                                                         ['crim',\n",
       "                                                                          'zn',\n",
       "                                                                          'indus',\n",
       "                                                                          'chas',\n",
       "                                                                          'nox',\n",
       "                                                                          'rooms',\n",
       "                                                                          'age',\n",
       "                                                                          'dis',\n",
       "                                                                          'rad',\n",
       "                                                                          'tax',\n",
       "                                                                          'ptratio',\n",
       "                                                                          'lstat'])])),\n",
       "                                       ('elastic',\n",
       "                                        ElasticNet(max_iter=10000,\n",
       "                                                   random_state=42))]),\n",
       "             param_grid={'elastic__alpha': [0.001, 0.01, 0.1, 1, 10, 100],\n",
       "                         'elastic__l1_ratio': [0.25, 0.5, 0.75]},\n",
       "             scoring=make_scorer(rmse, greater_is_better=False))"
      ]
     },
     "execution_count": 53,
     "metadata": {},
     "output_type": "execute_result"
    }
   ],
   "source": [
    "elastic_pipeline = Pipeline(\n",
    "    steps=[\n",
    "        ('preprocessor', preprocessor),\n",
    "        ('elastic', ElasticNet(fit_intercept=True, random_state=42, max_iter=10000))\n",
    "    ]\n",
    ")\n",
    "\n",
    "elastic_grid_params = {\n",
    "    'elastic__alpha': [0.001, 0.01, 0.1, 1, 10, 100],\n",
    "    'elastic__l1_ratio': [0.25, 0.5, 0.75]\n",
    "}\n",
    "\n",
    "elastic_clf = GridSearchCV(elastic_pipeline, param_grid=elastic_grid_params, scoring=rmse_scorer, cv=3)\n",
    "\n",
    "elastic_clf.fit(X_train, y_train)"
   ]
  },
  {
   "cell_type": "code",
   "execution_count": 54,
   "metadata": {},
   "outputs": [],
   "source": [
    "elastic_pred = elastic_clf.predict(X_test)"
   ]
  },
  {
   "cell_type": "code",
   "execution_count": 55,
   "metadata": {},
   "outputs": [
    {
     "name": "stdout",
     "output_type": "stream",
     "text": [
      "{'elastic__alpha': 0.001, 'elastic__l1_ratio': 0.25}\n",
      "0.18908098568314885\n",
      "0.7721237733514928\n"
     ]
    }
   ],
   "source": [
    "print(elastic_clf.best_params_)\n",
    "print(rmse(y_test, elastic_pred))\n",
    "print(r2_score(y_test, elastic_pred))\n",
    "\n",
    "model_results = model_results.append({'Model':'ElasticNet', \n",
    "        'Best Param':elastic_clf.best_params_, \n",
    "        'RMSE': rmse(y_test, elastic_pred), \n",
    "        'R2': r2_score(y_test, elastic_pred)}\n",
    "    , ignore_index=True)"
   ]
  },
  {
   "cell_type": "code",
   "execution_count": 56,
   "metadata": {},
   "outputs": [
    {
     "data": {
      "text/html": [
       "<div>\n",
       "<style scoped>\n",
       "    .dataframe tbody tr th:only-of-type {\n",
       "        vertical-align: middle;\n",
       "    }\n",
       "\n",
       "    .dataframe tbody tr th {\n",
       "        vertical-align: top;\n",
       "    }\n",
       "\n",
       "    .dataframe thead th {\n",
       "        text-align: right;\n",
       "    }\n",
       "</style>\n",
       "<table border=\"1\" class=\"dataframe\">\n",
       "  <thead>\n",
       "    <tr style=\"text-align: right;\">\n",
       "      <th></th>\n",
       "      <th>Model</th>\n",
       "      <th>Best Param</th>\n",
       "      <th>RMSE</th>\n",
       "      <th>R2</th>\n",
       "    </tr>\n",
       "  </thead>\n",
       "  <tbody>\n",
       "    <tr>\n",
       "      <th>0</th>\n",
       "      <td>LinearRegression</td>\n",
       "      <td>None</td>\n",
       "      <td>0.188625</td>\n",
       "      <td>0.773222</td>\n",
       "    </tr>\n",
       "    <tr>\n",
       "      <th>1</th>\n",
       "      <td>Ridge</td>\n",
       "      <td>{'ridge__alpha': 1}</td>\n",
       "      <td>0.188974</td>\n",
       "      <td>0.772381</td>\n",
       "    </tr>\n",
       "    <tr>\n",
       "      <th>2</th>\n",
       "      <td>Lasso</td>\n",
       "      <td>{'lasso__alpha': 0.001}</td>\n",
       "      <td>0.190324</td>\n",
       "      <td>0.769117</td>\n",
       "    </tr>\n",
       "    <tr>\n",
       "      <th>3</th>\n",
       "      <td>ElasticNet</td>\n",
       "      <td>{'elastic__alpha': 0.001, 'elastic__l1_ratio':...</td>\n",
       "      <td>0.189081</td>\n",
       "      <td>0.772124</td>\n",
       "    </tr>\n",
       "  </tbody>\n",
       "</table>\n",
       "</div>"
      ],
      "text/plain": [
       "              Model                                         Best Param  \\\n",
       "0  LinearRegression                                               None   \n",
       "1             Ridge                                {'ridge__alpha': 1}   \n",
       "2             Lasso                            {'lasso__alpha': 0.001}   \n",
       "3        ElasticNet  {'elastic__alpha': 0.001, 'elastic__l1_ratio':...   \n",
       "\n",
       "       RMSE        R2  \n",
       "0  0.188625  0.773222  \n",
       "1  0.188974  0.772381  \n",
       "2  0.190324  0.769117  \n",
       "3  0.189081  0.772124  "
      ]
     },
     "execution_count": 56,
     "metadata": {},
     "output_type": "execute_result"
    }
   ],
   "source": [
    "model_results"
   ]
  },
  {
   "cell_type": "code",
   "execution_count": 57,
   "metadata": {},
   "outputs": [
    {
     "data": {
      "text/plain": [
       "<AxesSubplot:xlabel='RMSE', ylabel='R2'>"
      ]
     },
     "execution_count": 57,
     "metadata": {},
     "output_type": "execute_result"
    },
    {
     "data": {
      "image/png": "[encoded data removed]",
      "text/plain": [
       "<Figure size 432x288 with 1 Axes>"
      ]
     },
     "metadata": {
      "needs_background": "light"
     },
     "output_type": "display_data"
    }
   ],
   "source": [
    "sns.scatterplot(x='RMSE', y='R2', data=model_results, hue='Model')"
   ]
  },
  {
   "cell_type": "code",
   "execution_count": 58,
   "metadata": {},
   "outputs": [
    {
     "data": {
      "text/html": [
       "<div>\n",
       "<style scoped>\n",
       "    .dataframe tbody tr th:only-of-type {\n",
       "        vertical-align: middle;\n",
       "    }\n",
       "\n",
       "    .dataframe tbody tr th {\n",
       "        vertical-align: top;\n",
       "    }\n",
       "\n",
       "    .dataframe thead th {\n",
       "        text-align: right;\n",
       "    }\n",
       "</style>\n",
       "<table border=\"1\" class=\"dataframe\">\n",
       "  <thead>\n",
       "    <tr style=\"text-align: right;\">\n",
       "      <th></th>\n",
       "      <th>Model</th>\n",
       "      <th>Best Param</th>\n",
       "      <th>RMSE</th>\n",
       "      <th>R2</th>\n",
       "    </tr>\n",
       "  </thead>\n",
       "  <tbody>\n",
       "    <tr>\n",
       "      <th>0</th>\n",
       "      <td>LinearRegression</td>\n",
       "      <td>None</td>\n",
       "      <td>0.188625</td>\n",
       "      <td>0.773222</td>\n",
       "    </tr>\n",
       "    <tr>\n",
       "      <th>1</th>\n",
       "      <td>Ridge</td>\n",
       "      <td>{'ridge__alpha': 1}</td>\n",
       "      <td>0.188974</td>\n",
       "      <td>0.772381</td>\n",
       "    </tr>\n",
       "    <tr>\n",
       "      <th>2</th>\n",
       "      <td>Lasso</td>\n",
       "      <td>{'lasso__alpha': 0.001}</td>\n",
       "      <td>0.190324</td>\n",
       "      <td>0.769117</td>\n",
       "    </tr>\n",
       "    <tr>\n",
       "      <th>3</th>\n",
       "      <td>ElasticNet</td>\n",
       "      <td>{'elastic__alpha': 0.001, 'elastic__l1_ratio':...</td>\n",
       "      <td>0.189081</td>\n",
       "      <td>0.772124</td>\n",
       "    </tr>\n",
       "  </tbody>\n",
       "</table>\n",
       "</div>"
      ],
      "text/plain": [
       "              Model                                         Best Param  \\\n",
       "0  LinearRegression                                               None   \n",
       "1             Ridge                                {'ridge__alpha': 1}   \n",
       "2             Lasso                            {'lasso__alpha': 0.001}   \n",
       "3        ElasticNet  {'elastic__alpha': 0.001, 'elastic__l1_ratio':...   \n",
       "\n",
       "       RMSE        R2  \n",
       "0  0.188625  0.773222  \n",
       "1  0.188974  0.772381  \n",
       "2  0.190324  0.769117  \n",
       "3  0.189081  0.772124  "
      ]
     },
     "execution_count": 58,
     "metadata": {},
     "output_type": "execute_result"
    }
   ],
   "source": [
    "model_results"
   ]
  }
 ],
 "metadata": {
  "interpreter": {
   "hash": "82ce4a5105e1d331a898465868487c60c28174d57dceddd83ffc024780aa0494"
  },
  "kernelspec": {
   "display_name": "Python 3.10.2 64-bit ('practical_machine_learning': conda)",
   "language": "python",
   "name": "python3"
  },
  "language_info": {
   "codemirror_mode": {
    "name": "ipython",
    "version": 3
   },
   "file_extension": ".py",
   "mimetype": "text/x-python",
   "name": "python",
   "nbconvert_exporter": "python",
   "pygments_lexer": "ipython3",
   "version": "3.10.2"
  },
  "orig_nbformat": 4
 },
 "nbformat": 4,
 "nbformat_minor": 2
}
